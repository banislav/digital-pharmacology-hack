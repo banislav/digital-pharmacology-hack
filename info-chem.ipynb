{
 "cells": [
  {
   "cell_type": "code",
   "execution_count": 1,
   "id": "9add97ca-c4aa-4b15-8748-8de0122bd2df",
   "metadata": {
    "execution": {
     "iopub.execute_input": "2023-04-28T22:54:41.589143Z",
     "iopub.status.busy": "2023-04-28T22:54:41.588473Z",
     "iopub.status.idle": "2023-04-28T22:54:41.630508Z",
     "shell.execute_reply": "2023-04-28T22:54:41.629089Z",
     "shell.execute_reply.started": "2023-04-28T22:54:41.589113Z"
    },
    "tags": []
   },
   "outputs": [],
   "source": [
    "%load_ext autoreload\n",
    "%autoreload 2"
   ]
  },
  {
   "cell_type": "code",
   "execution_count": 23,
   "id": "deadd107-7241-411d-826b-91a255a98082",
   "metadata": {
    "execution": {
     "iopub.execute_input": "2023-04-28T23:06:55.694756Z",
     "iopub.status.busy": "2023-04-28T23:06:55.693903Z",
     "iopub.status.idle": "2023-04-28T23:06:55.773032Z",
     "shell.execute_reply": "2023-04-28T23:06:55.772342Z",
     "shell.execute_reply.started": "2023-04-28T23:06:55.694721Z"
    },
    "tags": []
   },
   "outputs": [],
   "source": [
    "import warnings\n",
    "warnings.simplefilter(\"ignore\")\n",
    "\n",
    "import pandas as pd\n",
    "import numpy as np\n",
    "from selenium import webdriver\n",
    "from selenium.webdriver.chrome.options import Options\n",
    "\n",
    "from utils.get_smiles_interpretation import *\n",
    "from utils.parser import *\n",
    "from utils.threading import *\n",
    "\n",
    "NUM_THREADS = 2"
   ]
  },
  {
   "cell_type": "code",
   "execution_count": 36,
   "id": "6d289e8f-d65d-4781-b7de-667b9767541f",
   "metadata": {
    "execution": {
     "iopub.execute_input": "2023-04-28T23:10:03.684784Z",
     "iopub.status.busy": "2023-04-28T23:10:03.684472Z",
     "iopub.status.idle": "2023-04-28T23:10:03.755494Z",
     "shell.execute_reply": "2023-04-28T23:10:03.754274Z",
     "shell.execute_reply.started": "2023-04-28T23:10:03.684761Z"
    },
    "tags": []
   },
   "outputs": [],
   "source": [
    "smiles = pd.read_csv(\"data/SMILES.csv\")\n",
    "\n",
    "batches = np.array_split(smiles.SMILES.unique(), NUM_THREADS)"
   ]
  },
  {
   "cell_type": "code",
   "execution_count": 37,
   "id": "93fef846-62ff-4051-bbd8-522939c4a336",
   "metadata": {
    "execution": {
     "iopub.execute_input": "2023-04-28T23:10:03.949191Z",
     "iopub.status.busy": "2023-04-28T23:10:03.948781Z",
     "iopub.status.idle": "2023-04-28T23:10:11.827576Z",
     "shell.execute_reply": "2023-04-28T23:10:11.826334Z",
     "shell.execute_reply.started": "2023-04-28T23:10:03.949166Z"
    },
    "tags": []
   },
   "outputs": [
    {
     "data": {
      "application/vnd.jupyter.widget-view+json": {
       "model_id": "8949d2f09a8a4e3e96481b1549ee70c4",
       "version_major": 2,
       "version_minor": 0
      },
      "text/plain": [
       "  0%|          | 0/1 [00:00<?, ?it/s]"
      ]
     },
     "metadata": {},
     "output_type": "display_data"
    },
    {
     "data": {
      "application/vnd.jupyter.widget-view+json": {
       "model_id": "efa53bdfe1be40f4a8bb89f987c4e8c1",
       "version_major": 2,
       "version_minor": 0
      },
      "text/plain": [
       "  0%|          | 0/1 [00:00<?, ?it/s]"
      ]
     },
     "metadata": {},
     "output_type": "display_data"
    }
   ],
   "source": [
    "chrome_options = Options()\n",
    "chrome_options.add_argument('--headless')\n",
    "chrome_options.add_argument('--no-sandbox')\n",
    "chrome_options.add_argument('--disable-dev-shm-usage')\n",
    "thread_list, data = [], []\n",
    "\n",
    "for batch in batches:\n",
    "    thread = ThreadWithReturnValue(target=get_queries_pages, args=(batch, options))\n",
    "    thread_list.append(thread)\n",
    "    thread.start()\n",
    "\n",
    "for thread in thread_list:\n",
    "    data.extend(thread.join())"
   ]
  },
  {
   "cell_type": "code",
   "execution_count": null,
   "id": "04a00ac6-8830-4224-9d88-d870ba221b31",
   "metadata": {},
   "outputs": [],
   "source": []
  }
 ],
 "metadata": {
  "kernelspec": {
   "display_name": "chem-hack",
   "language": "python",
   "name": "chem-hack"
  },
  "language_info": {
   "codemirror_mode": {
    "name": "ipython",
    "version": 3
   },
   "file_extension": ".py",
   "mimetype": "text/x-python",
   "name": "python",
   "nbconvert_exporter": "python",
   "pygments_lexer": "ipython3",
   "version": "3.8.16"
  }
 },
 "nbformat": 4,
 "nbformat_minor": 5
}
