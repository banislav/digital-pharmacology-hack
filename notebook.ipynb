{
 "cells": [
  {
   "cell_type": "code",
   "execution_count": 1,
   "id": "367a7d19-8cea-47da-992b-7b76012582b5",
   "metadata": {},
   "outputs": [],
   "source": [
    "%load_ext autoreload\n",
    "%autoreload 2"
   ]
  },
  {
   "cell_type": "code",
   "execution_count": 4,
   "id": "aa914c8b-4f52-4f0f-8af1-de68a2daa14b",
   "metadata": {},
   "outputs": [],
   "source": [
    "import polars as plr"
   ]
  },
  {
   "cell_type": "code",
   "execution_count": 2,
   "id": "f107d351-9f26-476a-8a01-c28c1f698ffa",
   "metadata": {},
   "outputs": [
    {
     "data": {
      "text/html": [
       "<div><style>\n",
       ".dataframe > thead > tr > th,\n",
       ".dataframe > tbody > tr > td {\n",
       "  text-align: right;\n",
       "}\n",
       "</style>\n",
       "<small>shape: (47_494_698, 10)</small><table border=\"1\" class=\"dataframe\"><thead><tr><th>gene_symbol</th><th>ensembl_id</th><th>entrez_gid</th><th>compound_name</th><th>sample_name</th><th>expression</th><th>dose</th><th>dose_level</th><th>time</th><th>replicate</th></tr><tr><td>str</td><td>str</td><td>i64</td><td>str</td><td>i64</td><td>f64</td><td>i64</td><td>str</td><td>i64</td><td>i64</td></tr></thead><tbody><tr><td>&quot;TSPAN6&quot;</td><td>&quot;ENSG0000000000…</td><td>7105</td><td>&quot;1-Naphthyl iso…</td><td>3016011022</td><td>9.619903</td><td>0</td><td>&quot;Control&quot;</td><td>2</td><td>1</td></tr><tr><td>&quot;TNMD&quot;</td><td>&quot;ENSG0000000000…</td><td>64102</td><td>&quot;1-Naphthyl iso…</td><td>3016011022</td><td>3.662133</td><td>0</td><td>&quot;Control&quot;</td><td>2</td><td>1</td></tr><tr><td>&quot;DPM1&quot;</td><td>&quot;ENSG0000000041…</td><td>8813</td><td>&quot;1-Naphthyl iso…</td><td>3016011022</td><td>11.385486</td><td>0</td><td>&quot;Control&quot;</td><td>2</td><td>1</td></tr><tr><td>&quot;SCYL3&quot;</td><td>&quot;ENSG0000000045…</td><td>57147</td><td>&quot;1-Naphthyl iso…</td><td>3016011022</td><td>5.77268</td><td>0</td><td>&quot;Control&quot;</td><td>2</td><td>1</td></tr><tr><td>&quot;C1orf112&quot;</td><td>&quot;ENSG0000000046…</td><td>55732</td><td>&quot;1-Naphthyl iso…</td><td>3016011022</td><td>4.825868</td><td>0</td><td>&quot;Control&quot;</td><td>2</td><td>1</td></tr><tr><td>&quot;FGR&quot;</td><td>&quot;ENSG0000000093…</td><td>2268</td><td>&quot;1-Naphthyl iso…</td><td>3016011022</td><td>4.768241</td><td>0</td><td>&quot;Control&quot;</td><td>2</td><td>1</td></tr><tr><td>&quot;CFH&quot;</td><td>&quot;ENSG0000000097…</td><td>3075</td><td>&quot;1-Naphthyl iso…</td><td>3016011022</td><td>10.122544</td><td>0</td><td>&quot;Control&quot;</td><td>2</td><td>1</td></tr><tr><td>&quot;FUCA2&quot;</td><td>&quot;ENSG0000000103…</td><td>2519</td><td>&quot;1-Naphthyl iso…</td><td>3016011022</td><td>9.674749</td><td>0</td><td>&quot;Control&quot;</td><td>2</td><td>1</td></tr><tr><td>&quot;GCLC&quot;</td><td>&quot;ENSG0000000108…</td><td>2729</td><td>&quot;1-Naphthyl iso…</td><td>3016011022</td><td>9.071723</td><td>0</td><td>&quot;Control&quot;</td><td>2</td><td>1</td></tr><tr><td>&quot;NFYA&quot;</td><td>&quot;ENSG0000000116…</td><td>4800</td><td>&quot;1-Naphthyl iso…</td><td>3016011022</td><td>6.607029</td><td>0</td><td>&quot;Control&quot;</td><td>2</td><td>1</td></tr><tr><td>&quot;STPG1&quot;</td><td>&quot;ENSG0000000146…</td><td>90529</td><td>&quot;1-Naphthyl iso…</td><td>3016011022</td><td>5.526765</td><td>0</td><td>&quot;Control&quot;</td><td>2</td><td>1</td></tr><tr><td>&quot;NIPAL3&quot;</td><td>&quot;ENSG0000000146…</td><td>57185</td><td>&quot;1-Naphthyl iso…</td><td>3016011022</td><td>5.930306</td><td>0</td><td>&quot;Control&quot;</td><td>2</td><td>1</td></tr><tr><td>&hellip;</td><td>&hellip;</td><td>&hellip;</td><td>&hellip;</td><td>&hellip;</td><td>&hellip;</td><td>&hellip;</td><td>&hellip;</td><td>&hellip;</td><td>&hellip;</td></tr><tr><td>&quot;AL353748.3&quot;</td><td>&quot;ENSG0000028776…</td><td>0</td><td>&quot;N-Nitrosomorph…</td><td>3016113019</td><td>3.907214</td><td>10000</td><td>&quot;High&quot;</td><td>24</td><td>2</td></tr><tr><td>&quot;AC006230.1&quot;</td><td>&quot;ENSG0000028777…</td><td>0</td><td>&quot;N-Nitrosomorph…</td><td>3016113019</td><td>3.866398</td><td>10000</td><td>&quot;High&quot;</td><td>24</td><td>2</td></tr><tr><td>&quot;AL355999.1&quot;</td><td>&quot;ENSG0000028780…</td><td>0</td><td>&quot;N-Nitrosomorph…</td><td>3016113019</td><td>3.469009</td><td>10000</td><td>&quot;High&quot;</td><td>24</td><td>2</td></tr><tr><td>&quot;AL391840.3&quot;</td><td>&quot;ENSG0000028781…</td><td>0</td><td>&quot;N-Nitrosomorph…</td><td>3016113019</td><td>3.403834</td><td>10000</td><td>&quot;High&quot;</td><td>24</td><td>2</td></tr><tr><td>&quot;AC090994.1&quot;</td><td>&quot;ENSG0000028782…</td><td>0</td><td>&quot;N-Nitrosomorph…</td><td>3016113019</td><td>3.143776</td><td>10000</td><td>&quot;High&quot;</td><td>24</td><td>2</td></tr><tr><td>&quot;AL354743.2&quot;</td><td>&quot;ENSG0000028782…</td><td>0</td><td>&quot;N-Nitrosomorph…</td><td>3016113019</td><td>5.543816</td><td>10000</td><td>&quot;High&quot;</td><td>24</td><td>2</td></tr><tr><td>&quot;AL391560.2&quot;</td><td>&quot;ENSG0000028788…</td><td>0</td><td>&quot;N-Nitrosomorph…</td><td>3016113019</td><td>4.342864</td><td>10000</td><td>&quot;High&quot;</td><td>24</td><td>2</td></tr><tr><td>&quot;AC024597.1&quot;</td><td>&quot;ENSG0000028801…</td><td>0</td><td>&quot;N-Nitrosomorph…</td><td>3016113019</td><td>5.190125</td><td>10000</td><td>&quot;High&quot;</td><td>24</td><td>2</td></tr><tr><td>&quot;AP003307.2&quot;</td><td>&quot;ENSG0000028801…</td><td>0</td><td>&quot;N-Nitrosomorph…</td><td>3016113019</td><td>5.886194</td><td>10000</td><td>&quot;High&quot;</td><td>24</td><td>2</td></tr><tr><td>&quot;AL031123.5&quot;</td><td>&quot;ENSG0000028804…</td><td>0</td><td>&quot;N-Nitrosomorph…</td><td>3016113019</td><td>3.664634</td><td>10000</td><td>&quot;High&quot;</td><td>24</td><td>2</td></tr><tr><td>&quot;AP000926.2&quot;</td><td>&quot;ENSG0000028806…</td><td>0</td><td>&quot;N-Nitrosomorph…</td><td>3016113019</td><td>5.051086</td><td>10000</td><td>&quot;High&quot;</td><td>24</td><td>2</td></tr><tr><td>&quot;AL136981.3&quot;</td><td>&quot;ENSG0000028806…</td><td>0</td><td>&quot;N-Nitrosomorph…</td><td>3016113019</td><td>4.056455</td><td>10000</td><td>&quot;High&quot;</td><td>24</td><td>2</td></tr></tbody></table></div>"
      ],
      "text/plain": [
       "shape: (47_494_698, 10)\n",
       "┌─────────────┬──────────────┬────────────┬────────────┬───┬───────┬────────────┬──────┬───────────┐\n",
       "│ gene_symbol ┆ ensembl_id   ┆ entrez_gid ┆ compound_n ┆ … ┆ dose  ┆ dose_level ┆ time ┆ replicate │\n",
       "│ ---         ┆ ---          ┆ ---        ┆ ame        ┆   ┆ ---   ┆ ---        ┆ ---  ┆ ---       │\n",
       "│ str         ┆ str          ┆ i64        ┆ ---        ┆   ┆ i64   ┆ str        ┆ i64  ┆ i64       │\n",
       "│             ┆              ┆            ┆ str        ┆   ┆       ┆            ┆      ┆           │\n",
       "╞═════════════╪══════════════╪════════════╪════════════╪═══╪═══════╪════════════╪══════╪═══════════╡\n",
       "│ TSPAN6      ┆ ENSG00000000 ┆ 7105       ┆ 1-Naphthyl ┆ … ┆ 0     ┆ Control    ┆ 2    ┆ 1         │\n",
       "│             ┆ 003_at       ┆            ┆ isothiocya ┆   ┆       ┆            ┆      ┆           │\n",
       "│             ┆              ┆            ┆ nate       ┆   ┆       ┆            ┆      ┆           │\n",
       "│ TNMD        ┆ ENSG00000000 ┆ 64102      ┆ 1-Naphthyl ┆ … ┆ 0     ┆ Control    ┆ 2    ┆ 1         │\n",
       "│             ┆ 005_at       ┆            ┆ isothiocya ┆   ┆       ┆            ┆      ┆           │\n",
       "│             ┆              ┆            ┆ nate       ┆   ┆       ┆            ┆      ┆           │\n",
       "│ DPM1        ┆ ENSG00000000 ┆ 8813       ┆ 1-Naphthyl ┆ … ┆ 0     ┆ Control    ┆ 2    ┆ 1         │\n",
       "│             ┆ 419_at       ┆            ┆ isothiocya ┆   ┆       ┆            ┆      ┆           │\n",
       "│             ┆              ┆            ┆ nate       ┆   ┆       ┆            ┆      ┆           │\n",
       "│ SCYL3       ┆ ENSG00000000 ┆ 57147      ┆ 1-Naphthyl ┆ … ┆ 0     ┆ Control    ┆ 2    ┆ 1         │\n",
       "│             ┆ 457_at       ┆            ┆ isothiocya ┆   ┆       ┆            ┆      ┆           │\n",
       "│             ┆              ┆            ┆ nate       ┆   ┆       ┆            ┆      ┆           │\n",
       "│ …           ┆ …            ┆ …          ┆ …          ┆ … ┆ …     ┆ …          ┆ …    ┆ …         │\n",
       "│ AP003307.2  ┆ ENSG00000288 ┆ 0          ┆ N-Nitrosom ┆ … ┆ 10000 ┆ High       ┆ 24   ┆ 2         │\n",
       "│             ┆ 012_at       ┆            ┆ orpholine  ┆   ┆       ┆            ┆      ┆           │\n",
       "│ AL031123.5  ┆ ENSG00000288 ┆ 0          ┆ N-Nitrosom ┆ … ┆ 10000 ┆ High       ┆ 24   ┆ 2         │\n",
       "│             ┆ 046_at       ┆            ┆ orpholine  ┆   ┆       ┆            ┆      ┆           │\n",
       "│ AP000926.2  ┆ ENSG00000288 ┆ 0          ┆ N-Nitrosom ┆ … ┆ 10000 ┆ High       ┆ 24   ┆ 2         │\n",
       "│             ┆ 061_at       ┆            ┆ orpholine  ┆   ┆       ┆            ┆      ┆           │\n",
       "│ AL136981.3  ┆ ENSG00000288 ┆ 0          ┆ N-Nitrosom ┆ … ┆ 10000 ┆ High       ┆ 24   ┆ 2         │\n",
       "│             ┆ 062_at       ┆            ┆ orpholine  ┆   ┆       ┆            ┆      ┆           │\n",
       "└─────────────┴──────────────┴────────────┴────────────┴───┴───────┴────────────┴──────┴───────────┘"
      ]
     },
     "execution_count": 2,
     "metadata": {},
     "output_type": "execute_result"
    }
   ],
   "source": [
    "data = plr.read_csv('dataset.csv')"
   ]
  },
  {
   "cell_type": "code",
   "execution_count": 9,
   "id": "dea35aee-3434-4fb1-87b6-ed6dd3fab0de",
   "metadata": {},
   "outputs": [
    {
     "data": {
      "text/plain": [
       "{'Human-Toxicity': ['In adults, iv doses of 57 mg/kg and oral doses of 18-50 g have been fatal.'],\n",
       " 'Non-Human-Toxicity': ['LD50 Rat ip 260 mg/kg']}"
      ]
     },
     "execution_count": 9,
     "metadata": {},
     "output_type": "execute_result"
    }
   ],
   "source": [
    "import parser\n",
    "\n",
    "content = parser.get_page_content('https://pubchem.ncbi.nlm.nih.gov/compound/2519')\n",
    "parser.find_toxicity(content)"
   ]
  },
  {
   "cell_type": "code",
   "execution_count": null,
   "id": "a58c916c-b5ff-40c0-af76-a02c62053619",
   "metadata": {},
   "outputs": [],
   "source": []
  }
 ],
 "metadata": {
  "kernelspec": {
   "display_name": "digital-pharmacology-hack",
   "language": "python",
   "name": "digital-pharmacology-hack"
  },
  "language_info": {
   "codemirror_mode": {
    "name": "ipython",
    "version": 3
   },
   "file_extension": ".py",
   "mimetype": "text/x-python",
   "name": "python",
   "nbconvert_exporter": "python",
   "pygments_lexer": "ipython3",
   "version": "3.8.16"
  }
 },
 "nbformat": 4,
 "nbformat_minor": 5
}
